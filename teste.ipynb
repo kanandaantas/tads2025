{
 "cells": [
  {
   "cell_type": "markdown",
   "id": "76c8886a",
   "metadata": {},
   "source": [
    "#jupiter"
   ]
  },
  {
   "cell_type": "markdown",
   "id": "6cdf1dd2",
   "metadata": {},
   "source": [
    "#atividade em python "
   ]
  },
  {
   "cell_type": "code",
   "execution_count": 1,
   "id": "c61df618",
   "metadata": {},
   "outputs": [
    {
     "name": "stdout",
     "output_type": "stream",
     "text": [
      "hello, world!\n"
     ]
    }
   ],
   "source": [
    "print(\"hello, world!\")"
   ]
  }
 ],
 "metadata": {
  "kernelspec": {
   "display_name": "Python 3",
   "language": "python",
   "name": "python3"
  },
  "language_info": {
   "codemirror_mode": {
    "name": "ipython",
    "version": 3
   },
   "file_extension": ".py",
   "mimetype": "text/x-python",
   "name": "python",
   "nbconvert_exporter": "python",
   "pygments_lexer": "ipython3",
   "version": "3.12.1"
  }
 },
 "nbformat": 4,
 "nbformat_minor": 5
}
